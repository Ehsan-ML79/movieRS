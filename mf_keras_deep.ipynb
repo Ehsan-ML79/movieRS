{
 "cells": [
  {
   "cell_type": "code",
   "execution_count": 2,
   "id": "44eb2329",
   "metadata": {},
   "outputs": [],
   "source": [
    "from __future__ import print_function, division\n",
    "from builtins import range, input\n",
    "# Note: you may need to update your version of future\n",
    "# sudo pip install -U future\n",
    "\n",
    "import pickle\n",
    "import numpy as np\n",
    "import pandas as pd\n",
    "import matplotlib.pyplot as plt\n",
    "from sklearn.utils import shuffle\n",
    "\n",
    "from keras.models import Model\n",
    "from keras.layers import Input, Embedding, Flatten, Dense, Concatenate\n",
    "from keras.layers import Dropout, BatchNormalization, Activation\n",
    "from keras.regularizers import l2\n",
    "from keras.optimizers import SGD, Adam"
   ]
  },
  {
   "cell_type": "code",
   "execution_count": 3,
   "id": "6fdd7f97",
   "metadata": {},
   "outputs": [
    {
     "name": "stderr",
     "output_type": "stream",
     "text": [
      "C:\\Users\\Admin\\anaconda3\\lib\\site-packages\\keras\\optimizers\\legacy\\gradient_descent.py:114: UserWarning: The `lr` argument is deprecated, use `learning_rate` instead.\n",
      "  super().__init__(name, **kwargs)\n"
     ]
    },
    {
     "name": "stdout",
     "output_type": "stream",
     "text": [
      "Epoch 1/15\n",
      "33701/33701 [==============================] - 121s 4ms/step - loss: 0.6717 - mse: 0.6717 - val_loss: 0.6375 - val_mse: 0.6375\n",
      "Epoch 2/15\n",
      "33701/33701 [==============================] - 104s 3ms/step - loss: 0.6316 - mse: 0.6316 - val_loss: 0.6330 - val_mse: 0.6330\n",
      "Epoch 3/15\n",
      "33701/33701 [==============================] - 103s 3ms/step - loss: 0.6162 - mse: 0.6162 - val_loss: 0.6109 - val_mse: 0.6109\n",
      "Epoch 4/15\n",
      "33701/33701 [==============================] - 128s 4ms/step - loss: 0.6045 - mse: 0.6045 - val_loss: 0.6076 - val_mse: 0.6076\n",
      "Epoch 5/15\n",
      "33701/33701 [==============================] - 135s 4ms/step - loss: 0.5929 - mse: 0.5929 - val_loss: 0.5950 - val_mse: 0.5950\n",
      "Epoch 6/15\n",
      "33701/33701 [==============================] - 135s 4ms/step - loss: 0.5838 - mse: 0.5838 - val_loss: 0.6010 - val_mse: 0.6010\n",
      "Epoch 7/15\n",
      "33701/33701 [==============================] - 135s 4ms/step - loss: 0.5746 - mse: 0.5746 - val_loss: 0.5774 - val_mse: 0.5774\n",
      "Epoch 8/15\n",
      "33701/33701 [==============================] - 131s 4ms/step - loss: 0.5671 - mse: 0.5671 - val_loss: 0.5911 - val_mse: 0.5911\n",
      "Epoch 9/15\n",
      "33701/33701 [==============================] - 132s 4ms/step - loss: 0.5611 - mse: 0.5611 - val_loss: 0.5711 - val_mse: 0.5711\n",
      "Epoch 10/15\n",
      "33701/33701 [==============================] - 134s 4ms/step - loss: 0.5575 - mse: 0.5575 - val_loss: 0.5948 - val_mse: 0.5948\n",
      "Epoch 11/15\n",
      "33701/33701 [==============================] - 133s 4ms/step - loss: 0.5546 - mse: 0.5546 - val_loss: 0.5707 - val_mse: 0.5707\n",
      "Epoch 12/15\n",
      "33701/33701 [==============================] - 135s 4ms/step - loss: 0.5525 - mse: 0.5525 - val_loss: 0.5767 - val_mse: 0.5767\n",
      "Epoch 13/15\n",
      "33701/33701 [==============================] - 135s 4ms/step - loss: 0.5509 - mse: 0.5509 - val_loss: 0.5936 - val_mse: 0.5936\n",
      "Epoch 14/15\n",
      "33701/33701 [==============================] - 133s 4ms/step - loss: 0.5492 - mse: 0.5492 - val_loss: 0.5667 - val_mse: 0.5667\n",
      "Epoch 15/15\n",
      "33701/33701 [==============================] - 134s 4ms/step - loss: 0.5484 - mse: 0.5484 - val_loss: 0.5639 - val_mse: 0.5639\n"
     ]
    }
   ],
   "source": [
    "# load in the data\n",
    "df = pd.read_csv(\"C://Users//Admin//Documents//GitHub//small_rating.csv\")\n",
    "titledf=pd.read_csv(\"C://Users//Admin//Downloads//archive//movie.csv\")\n",
    "\n",
    "N = df.userId.max() + 1 # number of users\n",
    "M = df.movie_idx.max() + 1 # number of movies\n",
    "\n",
    "# split into train and test\n",
    "df = shuffle(df)\n",
    "cutoff = int(0.8*len(df))\n",
    "df_train = df.iloc[:cutoff]\n",
    "df_test = df.iloc[cutoff:]\n",
    "\n",
    "# initialize variables\n",
    "K = 10 # latent dimensionality\n",
    "mu = df_train.rating.mean()\n",
    "epochs = 15\n",
    "# reg = 0.0001 # regularization penalty\n",
    "\n",
    "\n",
    "# keras model\n",
    "u = Input(shape=(1,))\n",
    "m = Input(shape=(1,))\n",
    "u_embedding = Embedding(N, K)(u) # (N, 1, K)\n",
    "m_embedding = Embedding(M, K)(m) # (N, 1, K)\n",
    "u_embedding = Flatten()(u_embedding) # (N, K)\n",
    "m_embedding = Flatten()(m_embedding) # (N, K)\n",
    "x = Concatenate()([u_embedding, m_embedding]) # (N, 2K)\n",
    "\n",
    "# the neural network\n",
    "x = Dense(400)(x)\n",
    "# x = BatchNormalization()(x)\n",
    "x = Activation('relu')(x)\n",
    "# x = Dropout(0.5)(x)\n",
    "# x = Dense(100)(x)\n",
    "# x = BatchNormalization()(x)\n",
    "# x = Activation('relu')(x)\n",
    "x = Dense(1)(x)\n",
    "\n",
    "model = Model(inputs=[u, m], outputs=x)\n",
    "model.compile(\n",
    "  loss='mse',\n",
    "  # optimizer='adam',\n",
    "  # optimizer=Adam(lr=0.01),\n",
    "  optimizer=SGD(lr=0.08, momentum=0.9),\n",
    "  metrics=['mse'],\n",
    ")\n",
    "\n",
    "r = model.fit(\n",
    "  x=[df_train.userId.values, df_train.movie_idx.values],\n",
    "  y=df_train.rating.values - mu,\n",
    "  epochs=epochs,\n",
    "  batch_size=128,\n",
    "  validation_data=(\n",
    "    [df_test.userId.values, df_test.movie_idx.values],\n",
    "    df_test.rating.values - mu\n",
    "  )\n",
    ")"
   ]
  },
  {
   "cell_type": "code",
   "execution_count": 4,
   "id": "a53b1363",
   "metadata": {},
   "outputs": [
    {
     "data": {
      "image/png": "[encoded data removed]",
      "text/plain": [
       "<Figure size 640x480 with 1 Axes>"
      ]
     },
     "metadata": {},
     "output_type": "display_data"
    },
    {
     "ename": "KeyError",
     "evalue": "'mean_squared_error'",
     "output_type": "error",
     "traceback": [
      "\u001b[1;31m---------------------------------------------------------------------------\u001b[0m",
      "\u001b[1;31mKeyError\u001b[0m                                  Traceback (most recent call last)",
      "\u001b[1;32m~\\AppData\\Local\\Temp\\ipykernel_9568\\3178703351.py\u001b[0m in \u001b[0;36m<module>\u001b[1;34m\u001b[0m\n\u001b[0;32m      6\u001b[0m \u001b[1;33m\u001b[0m\u001b[0m\n\u001b[0;32m      7\u001b[0m \u001b[1;31m# plot mse\u001b[0m\u001b[1;33m\u001b[0m\u001b[1;33m\u001b[0m\u001b[0m\n\u001b[1;32m----> 8\u001b[1;33m \u001b[0mplt\u001b[0m\u001b[1;33m.\u001b[0m\u001b[0mplot\u001b[0m\u001b[1;33m(\u001b[0m\u001b[0mr\u001b[0m\u001b[1;33m.\u001b[0m\u001b[0mhistory\u001b[0m\u001b[1;33m[\u001b[0m\u001b[1;34m'mean_squared_error'\u001b[0m\u001b[1;33m]\u001b[0m\u001b[1;33m,\u001b[0m \u001b[0mlabel\u001b[0m\u001b[1;33m=\u001b[0m\u001b[1;34m\"train mse\"\u001b[0m\u001b[1;33m)\u001b[0m\u001b[1;33m\u001b[0m\u001b[1;33m\u001b[0m\u001b[0m\n\u001b[0m\u001b[0;32m      9\u001b[0m \u001b[0mplt\u001b[0m\u001b[1;33m.\u001b[0m\u001b[0mplot\u001b[0m\u001b[1;33m(\u001b[0m\u001b[0mr\u001b[0m\u001b[1;33m.\u001b[0m\u001b[0mhistory\u001b[0m\u001b[1;33m[\u001b[0m\u001b[1;34m'val_mean_squared_error'\u001b[0m\u001b[1;33m]\u001b[0m\u001b[1;33m,\u001b[0m \u001b[0mlabel\u001b[0m\u001b[1;33m=\u001b[0m\u001b[1;34m\"test mse\"\u001b[0m\u001b[1;33m)\u001b[0m\u001b[1;33m\u001b[0m\u001b[1;33m\u001b[0m\u001b[0m\n\u001b[0;32m     10\u001b[0m \u001b[0mplt\u001b[0m\u001b[1;33m.\u001b[0m\u001b[0mlegend\u001b[0m\u001b[1;33m(\u001b[0m\u001b[1;33m)\u001b[0m\u001b[1;33m\u001b[0m\u001b[1;33m\u001b[0m\u001b[0m\n",
      "\u001b[1;31mKeyError\u001b[0m: 'mean_squared_error'"
     ]
    }
   ],
   "source": [
    "# plot losses\n",
    "plt.plot(r.history['loss'], label=\"train loss\")\n",
    "plt.plot(r.history['val_loss'], label=\"test loss\")\n",
    "plt.legend()\n",
    "plt.show()\n",
    "\n",
    "# plot mse\n",
    "plt.plot(r.history['mean_squared_error'], label=\"train mse\")\n",
    "plt.plot(r.history['val_mean_squared_error'], label=\"test mse\")\n",
    "plt.legend()\n",
    "plt.show()"
   ]
  },
  {
   "cell_type": "code",
   "execution_count": 4,
   "id": "707c38f3",
   "metadata": {},
   "outputs": [
    {
     "name": "stdout",
     "output_type": "stream",
     "text": [
      "63/63 [==============================] - 0s 2ms/step\n",
      "Recommended movies for user 100:\n"
     ]
    },
    {
     "name": "stderr",
     "output_type": "stream",
     "text": [
      "C:\\Users\\Admin\\AppData\\Local\\Temp\\ipykernel_4172\\2400732005.py:25: UserWarning: Boolean Series key will be reindexed to match DataFrame index.\n",
      "  movie_title = titledf[df['movie_idx'] == movie_id]['title'].values[0]\n"
     ]
    },
    {
     "name": "stdout",
     "output_type": "stream",
     "text": [
      "-  Clueless (1995)\n",
      "-  Othello (Tragedy of Othello: The Moor of Venice, The) (1952)\n",
      "-  Bringing Up Baby (1938)\n",
      "-  Designated Mourner, The (1997)\n",
      "-  King of California (2007)\n",
      "-  Simple Wish, A (1997)\n",
      "-  Cruel Story of Youth (Seishun zankoku monogatari) (1960)\n",
      "-  Afterglow (1997)\n",
      "-  Bio-Dome (1996)\n",
      "-  Second Jungle Book: Mowgli & Baloo, The (1997)\n"
     ]
    }
   ],
   "source": [
    "# Get all movie IDs\n",
    "movie_ids = df['movie_idx'].unique()\n",
    "\n",
    "# Get all movies that user 100 has not yet rated\n",
    "movies_100_not_rated = df[~df['userId'].isin([100])]['movie_idx'].unique()\n",
    "\n",
    "# Create a list of tuples containing the user ID (100) and all movie IDs\n",
    "user_100_movie_tuples = [(100, movie_id) for movie_id in movie_ids]\n",
    "\n",
    "# Use the trained model to predict the ratings for all movies for user 100\n",
    "predicted_ratings = model.predict([np.array([t[0] for t in user_100_movie_tuples]), np.array([t[1] for t in user_100_movie_tuples])])\n",
    "\n",
    "# Create a dictionary containing the predicted ratings for each movie\n",
    "movie_ratings_dict = {movie_id: predicted_ratings[i][0] for i, movie_id in enumerate(movie_ids)}\n",
    "\n",
    "# Sort the movie IDs by their predicted rating for user 100\n",
    "sorted_movie_ids = sorted(movie_ratings_dict, key=movie_ratings_dict.get, reverse=True)\n",
    "\n",
    "# Get the top 10 movies that user 100 has not yet rated\n",
    "top_10_movies = [movie_id for movie_id in sorted_movie_ids if movie_id in movies_100_not_rated][:10]\n",
    "\n",
    "# Print the recommended movies\n",
    "print(\"Recommended movies for user 100:\")\n",
    "for movie_id in top_10_movies:\n",
    "    movie_title = titledf[df['movie_idx'] == movie_id]['title'].values[0]\n",
    "    print(\"- \", movie_title)\n"
   ]
  },
  {
   "cell_type": "code",
   "execution_count": null,
   "id": "249dbf59",
   "metadata": {},
   "outputs": [],
   "source": []
  }
 ],
 "metadata": {
  "kernelspec": {
   "display_name": "Python 3 (ipykernel)",
   "language": "python",
   "name": "python3"
  },
  "language_info": {
   "codemirror_mode": {
    "name": "ipython",
    "version": 3
   },
   "file_extension": ".py",
   "mimetype": "text/x-python",
   "name": "python",
   "nbconvert_exporter": "python",
   "pygments_lexer": "ipython3",
   "version": "3.9.13"
  }
 },
 "nbformat": 4,
 "nbformat_minor": 5
}
